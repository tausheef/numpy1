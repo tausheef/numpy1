{
 "cells": [
  {
   "cell_type": "code",
   "execution_count": 4,
   "id": "5f1208b4-b40e-451c-8032-7356ab449365",
   "metadata": {
    "editable": true,
    "slideshow": {
     "slide_type": ""
    },
    "tags": []
   },
   "outputs": [],
   "source": [
    "import numpy as np\n"
   ]
  },
  {
   "cell_type": "markdown",
   "id": "e27b6377-bfb5-4bab-be1a-d1a4ac8b7795",
   "metadata": {},
   "source": [
    "NUMPY INDEXING AND SLICING OF VECTORS"
   ]
  },
  {
   "cell_type": "code",
   "execution_count": 2,
   "id": "cbc750cb-01a6-4cbc-af67-6f148ee0fa49",
   "metadata": {},
   "outputs": [
    {
     "data": {
      "text/plain": [
       "array([11, 12, 13, 14, 15, 16, 17, 18, 19, 20])"
      ]
     },
     "execution_count": 2,
     "metadata": {},
     "output_type": "execute_result"
    }
   ],
   "source": [
    "arr = np.arange(11 , 21)\n",
    "arr"
   ]
  },
  {
   "cell_type": "code",
   "execution_count": 3,
   "id": "12379213-8f77-43ce-8491-76927b91d553",
   "metadata": {},
   "outputs": [
    {
     "data": {
      "text/plain": [
       "np.int64(12)"
      ]
     },
     "execution_count": 3,
     "metadata": {},
     "output_type": "execute_result"
    }
   ],
   "source": [
    "arr[1]"
   ]
  },
  {
   "cell_type": "code",
   "execution_count": 4,
   "id": "eccad44f-3650-45be-a77e-d5c15ba2e3fa",
   "metadata": {},
   "outputs": [
    {
     "data": {
      "text/plain": [
       "array([12, 13, 14, 15])"
      ]
     },
     "execution_count": 4,
     "metadata": {},
     "output_type": "execute_result"
    }
   ],
   "source": [
    "arr[1:5:1]"
   ]
  },
  {
   "cell_type": "code",
   "execution_count": null,
   "id": "c430132b-be07-43cb-a97c-c89ac9784fb1",
   "metadata": {},
   "outputs": [],
   "source": []
  },
  {
   "cell_type": "markdown",
   "id": "41c8bff6-620e-4d36-93fc-c680f876a1db",
   "metadata": {},
   "source": [
    "NUMPY INDEXING AND SLICING OF MATRIX"
   ]
  },
  {
   "cell_type": "code",
   "execution_count": 6,
   "id": "021beeea-e3e4-4e10-946d-ef18e0192b49",
   "metadata": {},
   "outputs": [
    {
     "data": {
      "text/plain": [
       "array([[ 1,  2,  3,  4,  5],\n",
       "       [ 6,  7,  8,  9, 10],\n",
       "       [11, 12, 13, 14, 15],\n",
       "       [16, 17, 18, 19, 20],\n",
       "       [21, 22, 23, 24, 25],\n",
       "       [26, 27, 28, 29, 30]])"
      ]
     },
     "execution_count": 6,
     "metadata": {},
     "output_type": "execute_result"
    }
   ],
   "source": [
    "arr = np.arange(1,31).reshape(6 , 5)\n",
    "arr"
   ]
  },
  {
   "cell_type": "code",
   "execution_count": 14,
   "id": "1accb287-f279-4141-9a8d-e3725ee63a1f",
   "metadata": {},
   "outputs": [
    {
     "data": {
      "text/plain": [
       "array([[2, 3],\n",
       "       [7, 8]])"
      ]
     },
     "execution_count": 14,
     "metadata": {},
     "output_type": "execute_result"
    }
   ],
   "source": [
    "slice = arr[0:2,1:3]\n",
    "slice"
   ]
  },
  {
   "cell_type": "code",
   "execution_count": 16,
   "id": "2d23c1c3-3a68-482a-8859-1d3cb79ede03",
   "metadata": {},
   "outputs": [
    {
     "data": {
      "text/plain": [
       "array([[19, 20],\n",
       "       [24, 25],\n",
       "       [29, 30]])"
      ]
     },
     "execution_count": 16,
     "metadata": {},
     "output_type": "execute_result"
    }
   ],
   "source": [
    "arr[3:6,3:5]"
   ]
  },
  {
   "cell_type": "code",
   "execution_count": 18,
   "id": "5b6d19f1-2841-4fa8-9fb5-50b6b8103947",
   "metadata": {},
   "outputs": [
    {
     "data": {
      "text/plain": [
       "array([ 3,  8, 13, 18, 23, 28])"
      ]
     },
     "execution_count": 18,
     "metadata": {},
     "output_type": "execute_result"
    }
   ],
   "source": [
    "arr[:,2]"
   ]
  },
  {
   "cell_type": "code",
   "execution_count": null,
   "id": "a21bb052-2379-4e84-820b-7ec2c9edadbe",
   "metadata": {},
   "outputs": [],
   "source": []
  },
  {
   "cell_type": "markdown",
   "id": "e81f4d30-881f-4d97-a61e-27488812ff6b",
   "metadata": {},
   "source": [
    "BOOLEAN INDEXING"
   ]
  },
  {
   "cell_type": "code",
   "execution_count": 5,
   "id": "427f9c42-4b91-462b-bbf9-a8f3fa3894ec",
   "metadata": {},
   "outputs": [
    {
     "data": {
      "text/plain": [
       "array([11, 12, 13, 14, 15, 16, 17, 18, 19, 20])"
      ]
     },
     "execution_count": 5,
     "metadata": {},
     "output_type": "execute_result"
    }
   ],
   "source": [
    "arr = np.arange(11,21)\n",
    "arr"
   ]
  },
  {
   "cell_type": "code",
   "execution_count": 6,
   "id": "66a7d479-78ac-471d-8169-0d3c7add8221",
   "metadata": {},
   "outputs": [
    {
     "data": {
      "text/plain": [
       "array([False,  True, False,  True, False,  True, False,  True, False,\n",
       "        True])"
      ]
     },
     "execution_count": 6,
     "metadata": {},
     "output_type": "execute_result"
    }
   ],
   "source": [
    "bool_index = arr % 2 == 0\n",
    "bool_index"
   ]
  },
  {
   "cell_type": "code",
   "execution_count": 7,
   "id": "135dbac3-b872-40cd-bd7b-989fb11f2709",
   "metadata": {},
   "outputs": [
    {
     "data": {
      "text/plain": [
       "array([12, 14, 16, 18, 20])"
      ]
     },
     "execution_count": 7,
     "metadata": {},
     "output_type": "execute_result"
    }
   ],
   "source": [
    "arr = arr[bool_index]\n",
    "arr"
   ]
  },
  {
   "cell_type": "code",
   "execution_count": null,
   "id": "0d3f0125-0933-4ea9-ba88-bf93007d8755",
   "metadata": {},
   "outputs": [],
   "source": []
  },
  {
   "cell_type": "markdown",
   "id": "e0b4efea-178f-432c-9561-720e73b0d39c",
   "metadata": {},
   "source": [
    "ARRAY OPERATION"
   ]
  },
  {
   "cell_type": "code",
   "execution_count": null,
   "id": "8e118152-08aa-49f2-8dc3-0955d0b8bef3",
   "metadata": {},
   "outputs": [],
   "source": []
  }
 ],
 "metadata": {
  "kernelspec": {
   "display_name": "Python [conda env:base] *",
   "language": "python",
   "name": "conda-base-py"
  },
  "language_info": {
   "codemirror_mode": {
    "name": "ipython",
    "version": 3
   },
   "file_extension": ".py",
   "mimetype": "text/x-python",
   "name": "python",
   "nbconvert_exporter": "python",
   "pygments_lexer": "ipython3",
   "version": "3.13.5"
  }
 },
 "nbformat": 4,
 "nbformat_minor": 5
}
