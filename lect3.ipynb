{
 "cells": [
  {
   "cell_type": "code",
   "execution_count": 2,
   "id": "de60a52e-7564-4462-967e-d28c06e7a80b",
   "metadata": {},
   "outputs": [],
   "source": [
    "import numpy as np"
   ]
  },
  {
   "cell_type": "markdown",
   "id": "9eede299-2b95-4245-beb6-3ff689e1465f",
   "metadata": {},
   "source": [
    "ARRAY OPERATIONS"
   ]
  },
  {
   "cell_type": "markdown",
   "id": "4a597999-4d2d-49e3-b3c4-a13a13883f86",
   "metadata": {},
   "source": [
    "Arithmetic operation"
   ]
  },
  {
   "cell_type": "code",
   "execution_count": 11,
   "id": "825d83f0-2e4c-4a4f-9ee5-884c9d360d43",
   "metadata": {},
   "outputs": [],
   "source": [
    "a1 = np.array([1 , 2 , 3 , 4 , 5])\n",
    "a2 = np.array([6 , 7 , 8 , 9 , 10])"
   ]
  },
  {
   "cell_type": "code",
   "execution_count": 12,
   "id": "23c09a18-1d89-46a8-840b-7ea5bebd50cb",
   "metadata": {},
   "outputs": [
    {
     "data": {
      "text/plain": [
       "array([ 7,  9, 11, 13, 15])"
      ]
     },
     "execution_count": 12,
     "metadata": {},
     "output_type": "execute_result"
    }
   ],
   "source": [
    "a1 + a2"
   ]
  },
  {
   "cell_type": "code",
   "execution_count": 13,
   "id": "18b1961b-3ddc-4c92-adac-3f70bd42ab47",
   "metadata": {},
   "outputs": [
    {
     "data": {
      "text/plain": [
       "array([-5, -5, -5, -5, -5])"
      ]
     },
     "execution_count": 13,
     "metadata": {},
     "output_type": "execute_result"
    }
   ],
   "source": [
    "a1 - a2"
   ]
  },
  {
   "cell_type": "code",
   "execution_count": 14,
   "id": "c98984ff-e2c9-4391-9723-13035116a3e9",
   "metadata": {},
   "outputs": [
    {
     "data": {
      "text/plain": [
       "array([ 6, 14, 24, 36, 50])"
      ]
     },
     "execution_count": 14,
     "metadata": {},
     "output_type": "execute_result"
    }
   ],
   "source": [
    "a1 * a2"
   ]
  },
  {
   "cell_type": "code",
   "execution_count": 15,
   "id": "b58aa5d5-0391-4e89-8c5d-189d0090038c",
   "metadata": {},
   "outputs": [
    {
     "data": {
      "text/plain": [
       "array([0.16666667, 0.28571429, 0.375     , 0.44444444, 0.5       ])"
      ]
     },
     "execution_count": 15,
     "metadata": {},
     "output_type": "execute_result"
    }
   ],
   "source": [
    "a1/a2"
   ]
  },
  {
   "cell_type": "code",
   "execution_count": 16,
   "id": "ba6b3eb8-15f8-43c0-bfb9-9e67b79fca51",
   "metadata": {},
   "outputs": [
    {
     "data": {
      "text/plain": [
       "array([6, 3, 2, 2, 2])"
      ]
     },
     "execution_count": 16,
     "metadata": {},
     "output_type": "execute_result"
    }
   ],
   "source": [
    "a2 // a1"
   ]
  },
  {
   "cell_type": "code",
   "execution_count": 17,
   "id": "22638f3e-f191-4819-9852-fc7e01c59229",
   "metadata": {},
   "outputs": [
    {
     "data": {
      "text/plain": [
       "array([      1,     128,    6561,  262144, 9765625])"
      ]
     },
     "execution_count": 17,
     "metadata": {},
     "output_type": "execute_result"
    }
   ],
   "source": [
    "a1 ** a2"
   ]
  },
  {
   "cell_type": "code",
   "execution_count": null,
   "id": "78623ef0-c0fa-4f7e-8a7d-39bb4215004e",
   "metadata": {},
   "outputs": [],
   "source": []
  },
  {
   "cell_type": "markdown",
   "id": "df1d3d66-1302-442b-b2c4-0072fbef6e05",
   "metadata": {},
   "source": [
    "Broadcasting"
   ]
  },
  {
   "cell_type": "code",
   "execution_count": 19,
   "id": "ec9fe93e-ccc7-4953-84b9-d01dc51567c4",
   "metadata": {},
   "outputs": [],
   "source": [
    "l = [10 , 20 , 30 , 40]\n",
    "arr = np.array(l)"
   ]
  },
  {
   "cell_type": "code",
   "execution_count": 21,
   "id": "5eaf354f-02ed-4cca-a9ba-271121fd85fc",
   "metadata": {
    "scrolled": true
   },
   "outputs": [
    {
     "data": {
      "text/plain": [
       "array([20, 30, 40, 50])"
      ]
     },
     "execution_count": 21,
     "metadata": {},
     "output_type": "execute_result"
    }
   ],
   "source": [
    "arr + 10"
   ]
  },
  {
   "cell_type": "code",
   "execution_count": null,
   "id": "9e062b60-3bfb-45be-8e10-5923a0579077",
   "metadata": {},
   "outputs": [],
   "source": []
  },
  {
   "cell_type": "markdown",
   "id": "ca086e43-2d42-4736-9b3f-baaebf3801ac",
   "metadata": {},
   "source": [
    "Deep and Swallow coppy"
   ]
  },
  {
   "cell_type": "code",
   "execution_count": 27,
   "id": "c244d30b-d4d2-4653-8819-d411f5542e6c",
   "metadata": {},
   "outputs": [
    {
     "data": {
      "text/plain": [
       "array([ 1,  2,  3,  4,  5,  6,  7,  8,  9, 10, 11, 12, 13, 14, 15, 16, 17,\n",
       "       18, 19, 20])"
      ]
     },
     "execution_count": 27,
     "metadata": {},
     "output_type": "execute_result"
    }
   ],
   "source": [
    "a = np.arange(1 , 21)\n",
    "a"
   ]
  },
  {
   "cell_type": "code",
   "execution_count": 28,
   "id": "571f1575-9e04-4bd7-a209-8aadc6821992",
   "metadata": {},
   "outputs": [
    {
     "data": {
      "text/plain": [
       "array([10, 20, 30, 40, 50])"
      ]
     },
     "execution_count": 28,
     "metadata": {},
     "output_type": "execute_result"
    }
   ],
   "source": [
    "slice = a[:5]\n",
    "slice = slice*10\n",
    "slice"
   ]
  },
  {
   "cell_type": "code",
   "execution_count": 29,
   "id": "980c1010-c78c-4372-b824-7e8f4a6a2e85",
   "metadata": {},
   "outputs": [
    {
     "data": {
      "text/plain": [
       "array([ 1,  2,  3,  4,  5,  6,  7,  8,  9, 10, 11, 12, 13, 14, 15, 16, 17,\n",
       "       18, 19, 20])"
      ]
     },
     "execution_count": 29,
     "metadata": {},
     "output_type": "execute_result"
    }
   ],
   "source": [
    "a"
   ]
  },
  {
   "cell_type": "code",
   "execution_count": 30,
   "id": "f1484b82-9884-492f-a475-24eb6fa67055",
   "metadata": {},
   "outputs": [
    {
     "data": {
      "text/plain": [
       "array([10, 20, 30, 40, 50])"
      ]
     },
     "execution_count": 30,
     "metadata": {},
     "output_type": "execute_result"
    }
   ],
   "source": [
    "slice"
   ]
  },
  {
   "cell_type": "code",
   "execution_count": 31,
   "id": "2ff8b541-55bc-4f04-b143-5cc558491925",
   "metadata": {},
   "outputs": [],
   "source": [
    "a\n",
    "b = a.copy()\n"
   ]
  },
  {
   "cell_type": "code",
   "execution_count": 32,
   "id": "cbc1c9d4-e6a6-4d72-8860-fb4ee2afbad4",
   "metadata": {},
   "outputs": [],
   "source": [
    "b[1] = 99"
   ]
  },
  {
   "cell_type": "code",
   "execution_count": 33,
   "id": "59c385db-a93e-4bf5-b30c-a332329cd8f9",
   "metadata": {},
   "outputs": [
    {
     "data": {
      "text/plain": [
       "array([ 1, 99,  3,  4,  5,  6,  7,  8,  9, 10, 11, 12, 13, 14, 15, 16, 17,\n",
       "       18, 19, 20])"
      ]
     },
     "execution_count": 33,
     "metadata": {},
     "output_type": "execute_result"
    }
   ],
   "source": [
    "b"
   ]
  },
  {
   "cell_type": "code",
   "execution_count": 34,
   "id": "322dd9d3-433b-41ba-8a23-4e33c818de4f",
   "metadata": {},
   "outputs": [
    {
     "data": {
      "text/plain": [
       "array([ 1,  2,  3,  4,  5,  6,  7,  8,  9, 10, 11, 12, 13, 14, 15, 16, 17,\n",
       "       18, 19, 20])"
      ]
     },
     "execution_count": 34,
     "metadata": {},
     "output_type": "execute_result"
    }
   ],
   "source": [
    "a"
   ]
  },
  {
   "cell_type": "markdown",
   "id": "377b6fa0-3b3a-461d-b464-09f5ca34fdb4",
   "metadata": {},
   "source": [
    "Matrix Operation"
   ]
  },
  {
   "cell_type": "code",
   "execution_count": 35,
   "id": "177f9196-2ff5-4c9b-8641-707f6504de6d",
   "metadata": {},
   "outputs": [],
   "source": [
    "A = np.array([[1, 2], [3, 4]])\n",
    "B = np.array([[5, 6], [7, 8]])"
   ]
  },
  {
   "cell_type": "code",
   "execution_count": 36,
   "id": "c92f5e2e-b13c-420f-989d-d1bb849566dc",
   "metadata": {},
   "outputs": [
    {
     "data": {
      "text/plain": [
       "array([[1, 2],\n",
       "       [3, 4]])"
      ]
     },
     "execution_count": 36,
     "metadata": {},
     "output_type": "execute_result"
    }
   ],
   "source": [
    "A"
   ]
  },
  {
   "cell_type": "code",
   "execution_count": 37,
   "id": "ddb339fe-0a7a-44f4-aa0c-dfb9c2bf68b2",
   "metadata": {},
   "outputs": [
    {
     "data": {
      "text/plain": [
       "array([[5, 6],\n",
       "       [7, 8]])"
      ]
     },
     "execution_count": 37,
     "metadata": {},
     "output_type": "execute_result"
    }
   ],
   "source": [
    "B"
   ]
  },
  {
   "cell_type": "code",
   "execution_count": 38,
   "id": "8e398da6-5a06-4740-80fc-81d5d23ada2a",
   "metadata": {},
   "outputs": [
    {
     "data": {
      "text/plain": [
       "array([[19, 22],\n",
       "       [43, 50]])"
      ]
     },
     "execution_count": 38,
     "metadata": {},
     "output_type": "execute_result"
    }
   ],
   "source": [
    "A @ B"
   ]
  },
  {
   "cell_type": "code",
   "execution_count": 39,
   "id": "b31b1b57-8cd0-4a07-b9db-25d19c2c8848",
   "metadata": {},
   "outputs": [
    {
     "data": {
      "text/plain": [
       "array([[1, 2],\n",
       "       [3, 4]])"
      ]
     },
     "execution_count": 39,
     "metadata": {},
     "output_type": "execute_result"
    }
   ],
   "source": [
    "A"
   ]
  },
  {
   "cell_type": "code",
   "execution_count": 40,
   "id": "54fbfeec-911b-432d-a223-591c9994579a",
   "metadata": {},
   "outputs": [
    {
     "data": {
      "text/plain": [
       "array([[1, 3],\n",
       "       [2, 4]])"
      ]
     },
     "execution_count": 40,
     "metadata": {},
     "output_type": "execute_result"
    }
   ],
   "source": [
    "A.T"
   ]
  },
  {
   "cell_type": "code",
   "execution_count": null,
   "id": "f50b7544-ac68-423d-b644-2c9e196e8217",
   "metadata": {},
   "outputs": [],
   "source": []
  },
  {
   "cell_type": "markdown",
   "id": "d1a58de0-35b6-4a93-8170-820facf11ca7",
   "metadata": {},
   "source": [
    "ADVANCE ARRAY MANIPULATION \n",
    "Stacking Array"
   ]
  },
  {
   "cell_type": "code",
   "execution_count": 44,
   "id": "d2468e46-426c-458e-8cd7-8213a9c1b651",
   "metadata": {},
   "outputs": [
    {
     "ename": "SyntaxError",
     "evalue": "invalid syntax (2850362059.py, line 1)",
     "output_type": "error",
     "traceback": [
      "\u001b[1;36m  Cell \u001b[1;32mIn[44], line 1\u001b[1;36m\u001b[0m\n\u001b[1;33m    Stacking Array\u001b[0m\n\u001b[1;37m             ^\u001b[0m\n\u001b[1;31mSyntaxError\u001b[0m\u001b[1;31m:\u001b[0m invalid syntax\n"
     ]
    }
   ],
   "source": []
  },
  {
   "cell_type": "code",
   "execution_count": 45,
   "id": "d01749f7-103f-4d39-88ac-d6edb513beb5",
   "metadata": {},
   "outputs": [],
   "source": [
    "a = np.array([1, 2, 3, 4])\n",
    "b = np.array([5, 6, 7, 8])"
   ]
  },
  {
   "cell_type": "code",
   "execution_count": 49,
   "id": "968c273a-9d89-4856-bdd1-896d77e817b6",
   "metadata": {},
   "outputs": [
    {
     "data": {
      "text/plain": [
       "array([[1, 2, 3, 4],\n",
       "       [5, 6, 7, 8]])"
      ]
     },
     "execution_count": 49,
     "metadata": {},
     "output_type": "execute_result"
    }
   ],
   "source": [
    "np.vstack((a , b))"
   ]
  },
  {
   "cell_type": "code",
   "execution_count": 50,
   "id": "e5099962-be51-4793-a2a9-55dfd13df63f",
   "metadata": {},
   "outputs": [
    {
     "data": {
      "text/plain": [
       "array([1, 2, 3, 4, 5, 6, 7, 8])"
      ]
     },
     "execution_count": 50,
     "metadata": {},
     "output_type": "execute_result"
    }
   ],
   "source": [
    "np.hstack((a , b))"
   ]
  },
  {
   "cell_type": "code",
   "execution_count": 51,
   "id": "d0c4d355-cd37-47d1-abb9-00dd3127b03e",
   "metadata": {},
   "outputs": [
    {
     "data": {
      "text/plain": [
       "array([[1, 5],\n",
       "       [2, 6],\n",
       "       [3, 7],\n",
       "       [4, 8]])"
      ]
     },
     "execution_count": 51,
     "metadata": {},
     "output_type": "execute_result"
    }
   ],
   "source": [
    "np.column_stack((a , b))"
   ]
  },
  {
   "cell_type": "code",
   "execution_count": null,
   "id": "12c364a5-b3ca-4333-b81d-44d7d456d72c",
   "metadata": {},
   "outputs": [],
   "source": []
  },
  {
   "cell_type": "markdown",
   "id": "231e2a09-b5cb-4350-b32d-5841b0ff05ac",
   "metadata": {},
   "source": [
    "Splitting Array"
   ]
  },
  {
   "cell_type": "code",
   "execution_count": 55,
   "id": "c9520ddd-c5bf-4172-8e12-66831304a9a7",
   "metadata": {},
   "outputs": [
    {
     "data": {
      "text/plain": [
       "array([[ 0,  1,  2,  3],\n",
       "       [ 4,  5,  6,  7],\n",
       "       [ 8,  9, 10, 11],\n",
       "       [12, 13, 14, 15]])"
      ]
     },
     "execution_count": 55,
     "metadata": {},
     "output_type": "execute_result"
    }
   ],
   "source": [
    "c = np.arange(16).reshape(4, 4)\n",
    "c"
   ]
  },
  {
   "cell_type": "code",
   "execution_count": 57,
   "id": "edc53f31-09f3-453a-b6e2-aa24c1956bec",
   "metadata": {},
   "outputs": [
    {
     "data": {
      "text/plain": [
       "[array([[ 0,  1],\n",
       "        [ 4,  5],\n",
       "        [ 8,  9],\n",
       "        [12, 13]]),\n",
       " array([[ 2,  3],\n",
       "        [ 6,  7],\n",
       "        [10, 11],\n",
       "        [14, 15]])]"
      ]
     },
     "execution_count": 57,
     "metadata": {},
     "output_type": "execute_result"
    }
   ],
   "source": [
    "np.hsplit(c,2)"
   ]
  },
  {
   "cell_type": "code",
   "execution_count": 58,
   "id": "a543ee05-1488-48b5-888e-0238e24d29e9",
   "metadata": {},
   "outputs": [
    {
     "data": {
      "text/plain": [
       "[array([[0, 1, 2, 3],\n",
       "        [4, 5, 6, 7]]),\n",
       " array([[ 8,  9, 10, 11],\n",
       "        [12, 13, 14, 15]])]"
      ]
     },
     "execution_count": 58,
     "metadata": {},
     "output_type": "execute_result"
    }
   ],
   "source": [
    "np.vsplit(c,2)"
   ]
  },
  {
   "cell_type": "code",
   "execution_count": null,
   "id": "d7e5d2d9-f040-4bfc-b3bc-14f8f78c881c",
   "metadata": {},
   "outputs": [],
   "source": []
  }
 ],
 "metadata": {
  "kernelspec": {
   "display_name": "Python [conda env:base] *",
   "language": "python",
   "name": "conda-base-py"
  },
  "language_info": {
   "codemirror_mode": {
    "name": "ipython",
    "version": 3
   },
   "file_extension": ".py",
   "mimetype": "text/x-python",
   "name": "python",
   "nbconvert_exporter": "python",
   "pygments_lexer": "ipython3",
   "version": "3.13.5"
  }
 },
 "nbformat": 4,
 "nbformat_minor": 5
}
